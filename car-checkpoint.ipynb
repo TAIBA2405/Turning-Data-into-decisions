{
 "cells": [
  {
   "cell_type": "markdown",
   "id": "2d3637a0-6823-4722-b403-474573e26edd",
   "metadata": {},
   "source": [
    "1  Load the \"cars.csv\" data file in Python. "
   ]
  },
  {
   "cell_type": "code",
   "execution_count": null,
   "id": "cc42ae34-c8d3-46b6-9005-646d5871210f",
   "metadata": {},
   "outputs": [],
   "source": [
    "import pandas as pd\n",
    "\n",
    "# Load the dataset using the full path\n",
    "df = pd.read_csv(r'D:\\data analytics\\data analysis\\cars.csv', encoding='latin1')\n",
    "print(df.head())\n"
   ]
  },
  {
   "cell_type": "markdown",
   "id": "08b473d8-613b-45b5-a023-e0a49b007404",
   "metadata": {},
   "source": [
    "2. Display the number of rows and columns in the dataset."
   ]
  },
  {
   "cell_type": "code",
   "execution_count": 32,
   "id": "53188343-3e4a-47d1-bf5a-72a70435c1eb",
   "metadata": {},
   "outputs": [
    {
     "name": "stdout",
     "output_type": "stream",
     "text": [
      " The dataset has 33 rows and 12 coloumns.\n"
     ]
    }
   ],
   "source": [
    "rows, cols = df.shape\n",
    "print(f\" The dataset has {rows} rows and {cols} coloumns.\")"
   ]
  },
  {
   "cell_type": "markdown",
   "id": "e8d4495d-6da5-4ef4-81d0-825ad7ead2e9",
   "metadata": {},
   "source": [
    "3. Analyze the data using summary statistics (Mean, Median, and Standard Deviation)."
   ]
  },
  {
   "cell_type": "code",
   "execution_count": 36,
   "id": "ddacd0f4-8e5a-4b0b-af38-826c96e181a4",
   "metadata": {},
   "outputs": [
    {
     "name": "stdout",
     "output_type": "stream",
     "text": [
      "Mean values:\n",
      " mpg      20.090625\n",
      "cyl       6.187500\n",
      "disp    230.721875\n",
      "hp      146.687500\n",
      "drat      3.596563\n",
      "wt        3.217250\n",
      "qsec     17.848750\n",
      "vs        0.437500\n",
      "am        0.406250\n",
      "gear      3.687500\n",
      "carb      2.812500\n",
      "dtype: float64\n",
      "\n",
      "Median vlaues:\n",
      " mpg      19.200\n",
      "cyl       6.000\n",
      "disp    196.300\n",
      "hp      123.000\n",
      "drat      3.695\n",
      "wt        3.325\n",
      "qsec     17.710\n",
      "vs        0.000\n",
      "am        0.000\n",
      "gear      4.000\n",
      "carb      2.000\n",
      "dtype: float64\n",
      "\n",
      "Standard Deviation values:\n",
      " mpg       6.026948\n",
      "cyl       1.785922\n",
      "disp    123.938694\n",
      "hp       68.562868\n",
      "drat      0.534679\n",
      "wt        0.978457\n",
      "qsec      1.786943\n",
      "vs        0.504016\n",
      "am        0.498991\n",
      "gear      0.737804\n",
      "carb      1.615200\n",
      "dtype: float64\n"
     ]
    }
   ],
   "source": [
    "mean_values = df.mean(numeric_only=True)\n",
    "median_values = df.median(numeric_only=True)\n",
    "std_dev_values= df.std(numeric_only=True)\n",
    "\n",
    "print(\"Mean values:\\n\", mean_values)\n",
    "print(\"\\nMedian vlaues:\\n\", median_values)\n",
    "print(\"\\nStandard Deviation values:\\n\", std_dev_values)"
   ]
  },
  {
   "cell_type": "markdown",
   "id": "e2266c49-7fd2-4d1e-bdf2-786485f21d88",
   "metadata": {},
   "source": [
    "4. Provide interpretations for the 25th and 75th percentiles."
   ]
  },
  {
   "cell_type": "code",
   "execution_count": 40,
   "id": "b759c16e-fe47-4fb3-b697-095ac5044b78",
   "metadata": {},
   "outputs": [
    {
     "name": "stdout",
     "output_type": "stream",
     "text": [
      "25th and 75th Percentiles:\n",
      "          mpg  cyl     disp     hp  drat       wt     qsec   vs   am  gear  \\\n",
      "0.25  15.425  4.0  120.825   96.5  3.08  2.58125  16.8925  0.0  0.0   3.0   \n",
      "0.75  22.800  8.0  326.000  180.0  3.92  3.61000  18.9000  1.0  1.0   4.0   \n",
      "\n",
      "      carb  \n",
      "0.25   2.0  \n",
      "0.75   4.0  \n"
     ]
    }
   ],
   "source": [
    "percentiles = df.quantile([0.25, .75], numeric_only=True)\n",
    "print(\"25th and 75th Percentiles:\\n\",percentiles)"
   ]
  },
  {
   "cell_type": "code",
   "execution_count": null,
   "id": "9c5bb893-7aaf-49cd-bf88-3da8cacbcc2b",
   "metadata": {},
   "outputs": [],
   "source": []
  },
  {
   "cell_type": "code",
   "execution_count": null,
   "id": "651d4888-bc31-4543-b280-ed9a50233a70",
   "metadata": {},
   "outputs": [],
   "source": []
  }
 ],
 "metadata": {
  "kernelspec": {
   "display_name": "Python [conda env:base] *",
   "language": "python",
   "name": "conda-base-py"
  },
  "language_info": {
   "codemirror_mode": {
    "name": "ipython",
    "version": 3
   },
   "file_extension": ".py",
   "mimetype": "text/x-python",
   "name": "python",
   "nbconvert_exporter": "python",
   "pygments_lexer": "ipython3",
   "version": "3.12.7"
  }
 },
 "nbformat": 4,
 "nbformat_minor": 5
}
